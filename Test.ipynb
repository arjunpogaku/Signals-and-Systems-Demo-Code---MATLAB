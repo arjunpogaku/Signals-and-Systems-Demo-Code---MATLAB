{
 "cells": [
  {
   "metadata": {},
   "cell_type": "markdown",
   "source": "Following code performs discrete convolution for two signals",
   "id": "652f6fcfd53a792a"
  },
  {
   "cell_type": "code",
   "id": "initial_id",
   "metadata": {
    "collapsed": true,
    "ExecuteTime": {
     "end_time": "2024-11-03T06:09:33.245557Z",
     "start_time": "2024-11-03T06:09:33.228562Z"
    }
   },
   "source": [
    "import numpy as np\n",
    "\n",
    "def convolve(x, h):\n",
    "    # Length of the output signal is (len(x) + len(h) - 1)\n",
    "    y_length = len(x) + len(h) - 1\n",
    "    y = np.zeros(y_length)  # Initialize the output array with zeros\n",
    "\n",
    "    # Perform the convolution using the summation formula\n",
    "    for n in range(y_length):\n",
    "        y[n] = sum(x[k] * h[n - k] for k in range(len(x)) if 0 <= n - k < len(h))\n",
    "\n",
    "    return y\n",
    "\n",
    "# Example usage:\n",
    "x = [1, 2, 3, 4, 5]  # Input signal\n",
    "h = [0, 1, 0.5]  # Impulse response\n",
    "\n",
    "y = convolve(x, h)\n",
    "print(\"The convolution result is:\", y)\n"
   ],
   "outputs": [
    {
     "name": "stdout",
     "output_type": "stream",
     "text": [
      "The convolution result is: [0.  1.  2.5 4.  5.5 7.  2.5]\n"
     ]
    }
   ],
   "execution_count": 4
  }
 ],
 "metadata": {
  "kernelspec": {
   "display_name": "Python 3",
   "language": "python",
   "name": "python3"
  },
  "language_info": {
   "codemirror_mode": {
    "name": "ipython",
    "version": 2
   },
   "file_extension": ".py",
   "mimetype": "text/x-python",
   "name": "python",
   "nbconvert_exporter": "python",
   "pygments_lexer": "ipython2",
   "version": "2.7.6"
  }
 },
 "nbformat": 4,
 "nbformat_minor": 5
}
